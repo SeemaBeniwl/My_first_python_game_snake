{
 "cells": [
  {
   "cell_type": "markdown",
   "metadata": {},
   "source": [
    "## IMPORTING IMPORTANT MODULES"
   ]
  },
  {
   "cell_type": "code",
   "execution_count": 2,
   "metadata": {
    "collapsed": true
   },
   "outputs": [],
   "source": [
    "import pygame \n",
    "# Because we need this module to build the game. Its the main module"
   ]
  },
  {
   "cell_type": "code",
   "execution_count": 3,
   "metadata": {
    "collapsed": true
   },
   "outputs": [],
   "source": [
    "import sys\n",
    "# because this will help us in important things like exit functions and all"
   ]
  },
  {
   "cell_type": "code",
   "execution_count": 4,
   "metadata": {
    "collapsed": true
   },
   "outputs": [],
   "source": [
    "import random\n",
    "# Because we have to have randomness as to where the food is located.right."
   ]
  },
  {
   "cell_type": "code",
   "execution_count": 5,
   "metadata": {
    "collapsed": true
   },
   "outputs": [],
   "source": [
    "import time\n",
    "# Because taking care of time is very important and yeah.. we need some delay between the tasks."
   ]
  },
  {
   "cell_type": "code",
   "execution_count": 6,
   "metadata": {
    "collapsed": true
   },
   "outputs": [],
   "source": [
    "## I need to see the intialise button"
   ]
  },
  {
   "cell_type": "code",
   "execution_count": 7,
   "metadata": {},
   "outputs": [
    {
     "name": "stdout",
     "output_type": "stream",
     "text": [
      "(6, 0)\n"
     ]
    }
   ],
   "source": [
    "print(pygame.init())"
   ]
  },
  {
   "cell_type": "code",
   "execution_count": 8,
   "metadata": {
    "collapsed": true
   },
   "outputs": [],
   "source": [
    "# So, we have to quit if we have any errors to be on safe side bro.\n",
    "# here i go "
   ]
  },
  {
   "cell_type": "code",
   "execution_count": 9,
   "metadata": {
    "collapsed": true
   },
   "outputs": [],
   "source": [
    "# I will store the variable into the variable. and then then get the error value , mabe make a loop.\n",
    "\n",
    "# So here we go ."
   ]
  },
  {
   "cell_type": "code",
   "execution_count": 10,
   "metadata": {
    "collapsed": true
   },
   "outputs": [],
   "source": [
    "#  Intializing python game "
   ]
  },
  {
   "cell_type": "code",
   "execution_count": 11,
   "metadata": {
    "collapsed": true
   },
   "outputs": [],
   "source": [
    "# check for initializing errors\n",
    "check_errors = pygame.init()\n",
    "\n",
    "# Get a tuple ( sucess messgae , error message)"
   ]
  },
  {
   "cell_type": "code",
   "execution_count": 12,
   "metadata": {},
   "outputs": [
    {
     "name": "stdout",
     "output_type": "stream",
     "text": [
      "(+) Pygame Successfully initialize!\n"
     ]
    }
   ],
   "source": [
    "if check_errors[1] > 0 :\n",
    "    print(\"(!) Had {0} intialising errors, exiting ...\".format(check_errors[1]))\n",
    "    sys.exit(-1)\n",
    "else:\n",
    "    print(\"(+) Pygame Successfully initialize!\")"
   ]
  },
  {
   "cell_type": "code",
   "execution_count": null,
   "metadata": {
    "collapsed": true
   },
   "outputs": [],
   "source": []
  },
  {
   "cell_type": "code",
   "execution_count": 13,
   "metadata": {
    "collapsed": true
   },
   "outputs": [],
   "source": [
    "# Play surface \n",
    "# # Use display which makes just a screen"
   ]
  },
  {
   "cell_type": "code",
   "execution_count": 15,
   "metadata": {},
   "outputs": [],
   "source": [
    "playSurface = pygame.display.set_mode((720,460))    # Size of the window\n",
    "# THe set_mode uses a tuple as a input.\n",
    "## So we need the window to stay for more time.\n",
    "\n",
    "# Now i need to change what the top header says.\n",
    "# How do i do that.\n",
    "\n",
    "pygame.display.set_caption(\"SNAKE GAME !\")\n",
    "time.sleep(5)\n"
   ]
  },
  {
   "cell_type": "code",
   "execution_count": 17,
   "metadata": {
    "collapsed": true
   },
   "outputs": [],
   "source": [
    "## Colors \n",
    "red = pygame.Color(255,0,0) # Game over # 3 arguments , rgba a-- affa channnel # Game over message\n",
    "green = pygame.Color(0,255,0) # for the snake\n",
    "black = pygame.Color(0,0,0) # score # Absence of color\n",
    "white = pygame.Color(255,255,255) # Background # Mixture of all the colors\n",
    "brown = pygame.Color(165,42,42)  # food"
   ]
  },
  {
   "cell_type": "markdown",
   "metadata": {},
   "source": [
    "## Creating Game Variables."
   ]
  },
  {
   "cell_type": "code",
   "execution_count": 19,
   "metadata": {
    "collapsed": true
   },
   "outputs": [],
   "source": [
    "# FPS controller\n",
    "fpsController = pygame.time.Clock()"
   ]
  },
  {
   "cell_type": "code",
   "execution_count": 20,
   "metadata": {
    "collapsed": true
   },
   "outputs": [],
   "source": [
    "# Important variables\n",
    "\n",
    "snakePos = [100,50]             # Head of the snake since body will follow\n",
    "snakeBody = [[100,50],[90,50],[80,50]] # Snake body -- [x,y]\n"
   ]
  },
  {
   "cell_type": "code",
   "execution_count": 21,
   "metadata": {
    "collapsed": true
   },
   "outputs": [],
   "source": [
    "foodPos = [random.randrange(1,72)*10,random.randrange(1,46)*10] # wE have a love\n",
    "foodSpawn = True\n"
   ]
  },
  {
   "cell_type": "markdown",
   "metadata": {},
   "source": [
    "## DIrection Variables "
   ]
  },
  {
   "cell_type": "code",
   "execution_count": 22,
   "metadata": {
    "collapsed": true
   },
   "outputs": [],
   "source": [
    "direction = 'RIGHT'\n",
    "changeto = direction       # change to will getthe direction which is intialised?"
   ]
  },
  {
   "cell_type": "code",
   "execution_count": 28,
   "metadata": {
    "collapsed": true
   },
   "outputs": [],
   "source": [
    "## Game over function\n",
    "def gameOver():\n",
    "    myFont = pygame.font.SysFont('monaco',72)\n",
    "    GOsurf = myFont.render('Game Over!',True,red)\n",
    "    GOrect = GOsurf.get_rect()\n",
    "    GOrect.midtop = (360,15)\n",
    "    playSurface.blit(GOsurf,GOrect)\n",
    "    pygame.display.flip()\n",
    "    showScore(0)\n",
    "    time.sleep(4)\n",
    "    pygame.quit() # Pygame window\n",
    "    sys.exit()     # Console."
   ]
  },
  {
   "cell_type": "code",
   "execution_count": 29,
   "metadata": {},
   "outputs": [],
   "source": [
    "## What is the event ?? In game.. even in a button we have all the events."
   ]
  },
  {
   "cell_type": "markdown",
   "metadata": {},
   "source": [
    "## Events"
   ]
  },
  {
   "cell_type": "code",
   "execution_count": 31,
   "metadata": {
    "collapsed": true
   },
   "outputs": [],
   "source": [
    "## Main logic of the game. "
   ]
  },
  {
   "cell_type": "code",
   "execution_count": 32,
   "metadata": {
    "collapsed": true
   },
   "outputs": [],
   "source": [
    "# Infinte loop for frames per second"
   ]
  },
  {
   "cell_type": "code",
   "execution_count": 33,
   "metadata": {},
   "outputs": [
    {
     "ename": "SystemExit",
     "evalue": "",
     "output_type": "error",
     "traceback": [
      "An exception has occurred, use %tb to see the full traceback.\n",
      "\u001b[0;31mSystemExit\u001b[0m\n"
     ]
    },
    {
     "name": "stderr",
     "output_type": "stream",
     "text": [
      "C:\\Users\\seema\\Anaconda3\\lib\\site-packages\\IPython\\core\\interactiveshell.py:2889: UserWarning: To exit: use 'exit', 'quit', or Ctrl-D.\n",
      "  warn(\"To exit: use 'exit', 'quit', or Ctrl-D.\", stacklevel=1)\n"
     ]
    }
   ],
   "source": [
    "while True:\n",
    "    for event in pygame.event.get():\n",
    "        if event.type == pygame.QUIT:\n",
    "            pygame.quit()\n",
    "            sys.exit()\n",
    "        elif event.type == pygame.KEYDOWN:\n",
    "            if event.key == pygame.K_RIGHT or event.key == ord('d'):\n",
    "                changeto = 'RIGHT'\n",
    "            if event.key == pygame.K_LEFT or event.key == ord('a'):\n",
    "                changeto = 'LEFT'\n",
    "            if event.key == pygame.K_UP or event.key == ord('w'):\n",
    "                changeto = 'UP'\n",
    "            if event.key == pygame.K_DOWN or event.key == ord('s'):\n",
    "                changeto = 'DOWN'\n",
    "            if event.key == pygame.K_ESCAPE:\n",
    "                pygame.event.post(pygame.event.Event(QUIT)) \n",
    "                # The escape , post and event of type Quit, makes us able to make our own events"
   ]
  },
  {
   "cell_type": "code",
   "execution_count": null,
   "metadata": {
    "collapsed": true
   },
   "outputs": [],
   "source": [
    "# validation of direction\n",
    "if changeto == 'RIGHT' and not direction == 'LEFT':\n",
    "    direction = 'RIGHT'\n",
    "if changeto == 'LEFT' and not direction == 'RIGHT':\n",
    "    direction = 'LEFT'\n",
    "if changeto == 'UP' and not direction == 'DOWN':\n",
    "    direction = 'UP'\n",
    "if changeto == 'DOWN' and not direction == 'UP':\n",
    "    direction = 'DOWN'\n",
    "# Update snake position [x,y]\n",
    "if direction == \"RIGHT\":\n",
    "    snakePos[0] += 10\n",
    "if direction == 'LEFT':\n",
    "    snakePos[0] -= 10\n",
    "if direction == 'UP':\n",
    "    snakePos[1] -= 10\n",
    "if direction == 'DOWN' :\n",
    "    snakePos[1] += 10\n",
    "    \n",
    "\n",
    "    \n",
    "## Snake Body Mechanism\n",
    "snakeBody.insert(0,list(snakePos))  # Location and the data\n",
    "if snakePos[0] == foodPos[0] and snakePos[1] == foodPos[1]:\n",
    "    score += 1\n",
    "    foodSpawn = False\n",
    "else:\n",
    "    snakeBody.pop()\n",
    "\n",
    "# Food Spawn\n",
    "if foodSpawn == False:\n",
    "    foodPos = [random.randrange(1,72)*10,random.randrange(1,46)*10] # wE have a love\n",
    "foodSpawn = True\n",
    "\n",
    "playSurface.fill(white) # We do not update,, so we have to display\n",
    "# Make the body of the snake\n",
    "for pos in snakeBody:\n",
    "    pygame.draw.rect(playSurface,green,pygame.Rect(pos[0],pos[1],10,10))\n",
    "\n",
    "pygame.draw.rect(playSurface,brown,pygame.Rect(foodPos[0],foodPos[1],10,10))\n",
    "\n",
    "# Bound\n",
    "if snakePos[0]> 710 or snakePos[0] < 0:\n",
    "    gameOver()\n",
    "if snakePos[1] > 450 or snakePos[1] < 0:\n",
    "    gameOver()\n",
    "    \n",
    "for block in snakeBody[1:]:\n",
    "    if snakePos[0] == block[0] and snakePos[1] == block[1]:\n",
    "        gameOver()\n",
    "\n",
    "pygame.display.flip()\n",
    "showScore()\n",
    "fpsController.tick(23)"
   ]
  },
  {
   "cell_type": "code",
   "execution_count": 34,
   "metadata": {
    "collapsed": true
   },
   "outputs": [],
   "source": [
    "# 10 AS A STANDARD TO MOVE THE SNAKE\n",
    "# MAIN THing"
   ]
  },
  {
   "cell_type": "code",
   "execution_count": 35,
   "metadata": {
    "collapsed": true
   },
   "outputs": [],
   "source": [
    "# Drawingf Part one -- Graphics part"
   ]
  },
  {
   "cell_type": "code",
   "execution_count": null,
   "metadata": {
    "collapsed": true
   },
   "outputs": [],
   "source": [
    "# Score board function\n",
    "def showScore(choice = 1):\n",
    "    sFont = pugame.font.SysFont('monaco',24)\n",
    "    Ssurf = myFont.render('Score:{0}'.format(score) , True, red)\n",
    "    Srect = Ssurf.get_rect()\n",
    "    if choice == 1:\n",
    "        Srect.midtop = (80,10)        # Run a game i want score to be one the left side\n",
    "    else:\n",
    "        Srect.midtop = (360,120)\n",
    "    playSurface.bilt(Ssurf,Srect)"
   ]
  },
  {
   "cell_type": "code",
   "execution_count": 36,
   "metadata": {
    "collapsed": true
   },
   "outputs": [],
   "source": [
    "## Quick Fixes:\n",
    "## Pygame.Quit\n",
    "## flicker in the score. \n",
    "### So show score is repeating twice.\n",
    "### below the show scores."
   ]
  },
  {
   "cell_type": "code",
   "execution_count": null,
   "metadata": {
    "collapsed": true
   },
   "outputs": [],
   "source": [
    "## Little improvements in the projects\n",
    "# Adding menues, play, settings ,and all the stuff.\n",
    "# Adding some sounds and baground sounds. and background music.\n",
    "## You can add images to the body.. \n",
    "## Change the icon of the game.\n",
    "## convert scripts.. into executables in any platform\n",
    "  ## use pyinstaller."
   ]
  }
 ],
 "metadata": {
  "kernelspec": {
   "display_name": "Python 3",
   "language": "python",
   "name": "python3"
  },
  "language_info": {
   "codemirror_mode": {
    "name": "ipython",
    "version": 3
   },
   "file_extension": ".py",
   "mimetype": "text/x-python",
   "name": "python",
   "nbconvert_exporter": "python",
   "pygments_lexer": "ipython3",
   "version": "3.6.0"
  }
 },
 "nbformat": 4,
 "nbformat_minor": 2
}
